{
 "cells": [
  {
   "cell_type": "markdown",
   "metadata": {},
   "source": [
    "Wrong Way"
   ]
  },
  {
   "cell_type": "code",
   "execution_count": null,
   "metadata": {
    "vscode": {
     "languageId": "plaintext"
    }
   },
   "outputs": [],
   "source": [
    "var builder = WebApplication.CreateBuilder(args);\n",
    "\n",
    "// ❌ Blocking API call during startup\n",
    "var configData = GetConfigFromApi().Result;  // Blocks the main thread\n",
    "\n",
    "var app = builder.Build();\n",
    "\n",
    "app.MapGet(\"/\", () => \"Hello World!\");\n",
    "app.Run();\n",
    "\n",
    "async Task<string> GetConfigFromApi()\n",
    "{\n",
    "    await Task.Delay(3000); // Simulating slow API call\n",
    "    return \"Config Loaded\";\n",
    "}"
   ]
  },
  {
   "cell_type": "markdown",
   "metadata": {},
   "source": [
    "Correct Way"
   ]
  },
  {
   "cell_type": "code",
   "execution_count": null,
   "metadata": {
    "vscode": {
     "languageId": "plaintext"
    }
   },
   "outputs": [],
   "source": [
    "var builder = WebApplication.CreateBuilder(args);\n",
    "\n",
    "var app = builder.Build();\n",
    "\n",
    "app.Lifetime.ApplicationStarted.Register(async () =>\n",
    "{\n",
    "    var configData = await GetConfigFromApi(); // ✅ Now it is async\n",
    "    Console.WriteLine($\"Config Loaded: {configData}\");\n",
    "});\n",
    "\n",
    "app.MapGet(\"/\", () => \"Hello World!\");\n",
    "app.Run();\n",
    "\n",
    "async Task<string> GetConfigFromApi()\n",
    "{\n",
    "    await Task.Delay(3000); // Simulating slow API call\n",
    "    return \"Config Loaded\";\n",
    "}"
   ]
  }
 ],
 "metadata": {
  "language_info": {
   "name": "python"
  }
 },
 "nbformat": 4,
 "nbformat_minor": 2
}
