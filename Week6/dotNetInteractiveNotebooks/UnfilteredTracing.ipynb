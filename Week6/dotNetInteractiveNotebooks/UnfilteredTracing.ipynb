{
 "cells": [
  {
   "cell_type": "markdown",
   "metadata": {},
   "source": [
    "Enable All Tracing Without Filtering"
   ]
  },
  {
   "cell_type": "code",
   "execution_count": null,
   "metadata": {
    "vscode": {
     "languageId": "plaintext"
    }
   },
   "outputs": [],
   "source": [
    "var builder = WebApplication.CreateBuilder(args);\n",
    "\n",
    "builder.Services.AddOpenTelemetry()\n",
    "    .WithTracing(tracing => tracing.AddAspNetCoreInstrumentation()\n",
    "                                   .AddHttpClientInstrumentation()\n",
    "                                   .AddSqlClientInstrumentation() // ❌ Captures every query\n",
    "                                   .AddOtlpExporter()); // ❌ Sends too much data\n",
    "\n",
    "var app = builder.Build();\n",
    "app.MapGet(\"/\", () => \"Hello World!\");\n",
    "app.Run();"
   ]
  },
  {
   "cell_type": "markdown",
   "metadata": {},
   "source": [
    "Use Filters and Sampling"
   ]
  },
  {
   "cell_type": "code",
   "execution_count": null,
   "metadata": {
    "vscode": {
     "languageId": "plaintext"
    }
   },
   "outputs": [],
   "source": [
    "var builder = WebApplication.CreateBuilder(args);\n",
    "\n",
    "builder.Services.AddOpenTelemetry()\n",
    "    .WithTracing(tracing => tracing\n",
    "        .AddAspNetCoreInstrumentation(options => \n",
    "        {\n",
    "            options.Filter = request => request.Path != \"/health\"; // ✅ Ignore health checks\n",
    "        })\n",
    "        .AddHttpClientInstrumentation()\n",
    "        .AddSqlClientInstrumentation(options =>\n",
    "        {\n",
    "            options.SetDbStatementForText = false; // ✅ Avoid logging full SQL queries\n",
    "        })\n",
    "        .SetSampler(new ParentBasedSampler(new TraceIdRatioBasedSampler(0.2))) // ✅ Sample only 20% of traces\n",
    "        .AddOtlpExporter());\n",
    "\n",
    "var app = builder.Build();\n",
    "app.MapGet(\"/\", () => \"Hello World!\");\n",
    "app.Run();"
   ]
  }
 ],
 "metadata": {
  "language_info": {
   "name": "python"
  }
 },
 "nbformat": 4,
 "nbformat_minor": 2
}
